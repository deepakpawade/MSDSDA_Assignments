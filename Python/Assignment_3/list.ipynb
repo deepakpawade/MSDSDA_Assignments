{
 "cells": [
  {
   "cell_type": "code",
   "execution_count": 2,
   "metadata": {},
   "outputs": [
    {
     "name": "stdout",
     "output_type": "stream",
     "text": [
      "4\n"
     ]
    }
   ],
   "source": [
    "# ⦁\tWrite a Python program to sum all the items in a list\n",
    "def sum_list(items):\n",
    "    sum_numbers = 0\n",
    "    for x in items:\n",
    "        sum_numbers += x\n",
    "    return sum_numbers\n",
    "print(sum_list([5,2,-3]))"
   ]
  },
  {
   "cell_type": "code",
   "execution_count": 5,
   "metadata": {},
   "outputs": [
    {
     "name": "stdout",
     "output_type": "stream",
     "text": [
      "\n",
      "The Smallest Element in this List is:  3\n",
      "The Largest Element in this List is:  654\n",
      "\n",
      "The Smallest Element in this List is :  3\n",
      "The Largest Element in this List is :  654\n"
     ]
    }
   ],
   "source": [
    "# ⦁\tWrite a Python program to get the largest and smallest number from a list.\\\n",
    "numList = [4,56,65,654,654,464,22,3]\n",
    "print(\"\\nThe Smallest Element in this List is: \", min(numList))\n",
    "print(\"The Largest Element in this List is: \", max(numList))\n",
    "\n",
    "# or\n",
    "numList.sort()\n",
    "\n",
    "print(\"\\nThe Smallest Element in this List is : \", numList[0])\n",
    "print(\"The Largest Element in this List is : \", numList[- 1])"
   ]
  },
  {
   "cell_type": "code",
   "execution_count": 7,
   "metadata": {},
   "outputs": [
    {
     "name": "stdout",
     "output_type": "stream",
     "text": [
      "List is empty\n",
      "List is empty\n"
     ]
    }
   ],
   "source": [
    "# ⦁\tWrite a Python program to check a list is empty or not.\n",
    "l = []\n",
    "if not l:\n",
    "  print(\"List is empty\")\n",
    "\n",
    "# or\n",
    "\n",
    "\n",
    "\n",
    "if len(l) == 0:\n",
    "    print(\"List is empty\")\n",
    "else:\n",
    "    print(\"List is not empty\")\n",
    " \n"
   ]
  },
  {
   "cell_type": "code",
   "execution_count": 8,
   "metadata": {},
   "outputs": [
    {
     "name": "stdout",
     "output_type": "stream",
     "text": [
      "[11, 23, 45, 24, 5]\n",
      "[11, 23, 45, 24, 5]\n"
     ]
    }
   ],
   "source": [
    "# ⦁\tWrite a Python program to clone or copy a list.\n",
    "listo = [11, 23, 45, 24, 5]\n",
    "listn = list(listo)\n",
    "print(listo)\n",
    "print(listn)"
   ]
  },
  {
   "cell_type": "code",
   "execution_count": 9,
   "metadata": {},
   "outputs": [
    {
     "name": "stdout",
     "output_type": "stream",
     "text": [
      "['Green', 'White', 'Black']\n"
     ]
    }
   ],
   "source": [
    "# ⦁\tWrite a Python program to print a specified list after removing the 0th, 4th and 5th elements. \n",
    "color = ['Red', 'Green', 'White', 'Black', 'Pink', 'Yellow']\n",
    "color = [x for (i,x) in enumerate(color) if i not in (0,4,5)]\n",
    "print(color)"
   ]
  },
  {
   "cell_type": "code",
   "execution_count": 10,
   "metadata": {},
   "outputs": [
    {
     "name": "stdout",
     "output_type": "stream",
     "text": [
      "0 3\n",
      "1 45\n",
      "2 85\n",
      "3 81\n",
      "4 113\n"
     ]
    }
   ],
   "source": [
    "# ⦁\tWrite a Python program access the index of a list.\n",
    "l = [3, 45, 85, 81, 113]\n",
    "for num, val in enumerate(l):\n",
    "    print(num, val)"
   ]
  },
  {
   "cell_type": "code",
   "execution_count": 11,
   "metadata": {},
   "outputs": [
    {
     "name": "stdout",
     "output_type": "stream",
     "text": [
      "[1, 2, 3, 0, 'Red', 'Green', 'Black']\n"
     ]
    }
   ],
   "source": [
    "# ⦁\tWrite a Python program to append a list to the second list. \n",
    "list1 = [1, 2, 3, 0]\n",
    "list2 = ['Red', 'Green', 'Black']\n",
    "final_list = list1 + list2\n",
    "print(final_list)"
   ]
  },
  {
   "cell_type": "code",
   "execution_count": 12,
   "metadata": {},
   "outputs": [
    {
     "name": "stdout",
     "output_type": "stream",
     "text": [
      "White\n"
     ]
    }
   ],
   "source": [
    "# ⦁\tWrite a Python program to select an item randomly from a list. \n",
    "import random\n",
    "color_list = ['Red', 'Blue', 'Green', 'White', 'Black']\n",
    "print(random.choice(color_list))"
   ]
  },
  {
   "cell_type": "code",
   "execution_count": 16,
   "metadata": {},
   "outputs": [
    {
     "name": "stdout",
     "output_type": "stream",
     "text": [
      "[10, 20, 30, 40, 50, 60]\n",
      "Original List :  [10, 20, 30, 40, 20, 50, 60, 40]\n",
      "{40, 10, 50, 20, 60, 30}\n",
      "List of unique numbers :  [40, 10, 50, 20, 60, 30]\n"
     ]
    }
   ],
   "source": [
    "# ⦁\tWrite a Python program to get unique values from a list. \n",
    "nList = [10, 20, 30, 40, 20, 50, 60, 40]\n",
    "uList = []\n",
    "     \n",
    "for x in nList:\n",
    "    if x not in uList:\n",
    "            uList.append(x)\n",
    "print(uList)\n",
    "\n",
    "# or\n",
    "\n",
    "print(\"Original List : \",nList)\n",
    "my_set = set(nList)\n",
    "print(my_set)\n",
    "my_new_list = list(my_set)\n",
    "print(\"List of unique numbers : \",my_new_list)\n",
    "     \n",
    "   "
   ]
  },
  {
   "cell_type": "code",
   "execution_count": 22,
   "metadata": {},
   "outputs": [
    {
     "name": "stdout",
     "output_type": "stream",
     "text": [
      "Second Smallest : 4\n",
      "Second Largest : 654\n"
     ]
    }
   ],
   "source": [
    "# ⦁\tWrite a Python program to get the second largest and second smallest \n",
    "numList = [4,56,65,654,654,464,22,3]\n",
    "numList.sort()\n",
    "print(\"Second Smallest : %i\"  %numList[1])\n",
    "print(\"Second Largest : %i\" %numList[-2])\n"
   ]
  },
  {
   "cell_type": "code",
   "execution_count": 27,
   "metadata": {},
   "outputs": [
    {
     "name": "stdout",
     "output_type": "stream",
     "text": [
      "Original List :  [10, 20, 30, 40, 20, 50, 60, 40]\n",
      "New list :  [40, 10, 50, 20, 60, 30]\n"
     ]
    }
   ],
   "source": [
    "# ⦁\tWrite a Python program to remove duplicates from a list.\n",
    "nList = [10, 20, 30, 40, 20, 50, 60, 40]\n",
    "print(\"Original List : \",nList)\n",
    "my_set = set(nList)\n",
    "# print(my_set)\n",
    "nList = list(my_set)\n",
    "print(\"New list : \",nList)"
   ]
  }
 ],
 "metadata": {
  "interpreter": {
   "hash": "458a8cc7b148a026ef3f725b0d7d7a413cd7f7625d92b5013d2d239859459c87"
  },
  "kernelspec": {
   "display_name": "Python 3.9.7 64-bit",
   "name": "python3"
  },
  "language_info": {
   "codemirror_mode": {
    "name": "ipython",
    "version": 3
   },
   "file_extension": ".py",
   "mimetype": "text/x-python",
   "name": "python",
   "nbconvert_exporter": "python",
   "pygments_lexer": "ipython3",
   "version": "3.9.7"
  },
  "orig_nbformat": 4
 },
 "nbformat": 4,
 "nbformat_minor": 2
}
