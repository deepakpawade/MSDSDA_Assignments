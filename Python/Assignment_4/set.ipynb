{
 "cells": [
  {
   "cell_type": "code",
   "execution_count": 1,
   "metadata": {},
   "outputs": [
    {
     "name": "stdout",
     "output_type": "stream",
     "text": [
      "{1, 2, 3}\n",
      "{1.0, (1, 2, 3), 'Hello'}\n"
     ]
    }
   ],
   "source": [
    "# ⦁\tWrite a Python program to create a set.\n",
    "my_set = {1, 2, 3}\n",
    "print(my_set)\n",
    "\n",
    "# set of mixed datatypes\n",
    "my_set = {1.0, \"Hello\", (1, 2, 3)}\n",
    "print(my_set)"
   ]
  },
  {
   "cell_type": "code",
   "execution_count": 2,
   "metadata": {},
   "outputs": [
    {
     "name": "stdout",
     "output_type": "stream",
     "text": [
      "1.0\n",
      "(1, 2, 3)\n",
      "Hello\n"
     ]
    }
   ],
   "source": [
    "# ⦁\tWrite a Python program to iterate over sets.\n",
    "my_set = {1.0, \"Hello\", (1, 2, 3)}\n",
    " \n",
    "# Iterating using for loop\n",
    "for val in my_set:\n",
    "    print(val)"
   ]
  },
  {
   "cell_type": "code",
   "execution_count": 3,
   "metadata": {},
   "outputs": [
    {
     "name": "stdout",
     "output_type": "stream",
     "text": [
      "{11, 1.0, (1, 2, 3), 'Hello'}\n",
      "{'ABC', 1.0, 11, (1, 2, 3), 'Hello'}\n"
     ]
    }
   ],
   "source": [
    "# ⦁\tWrite a Python program to add member(s) in a set.\n",
    "my_set = {1.0, \"Hello\", (1, 2, 3)}\n",
    "my_set.add(11)\n",
    "print(my_set)\n",
    "my_set.add(\"ABC\")\n",
    "print(my_set)"
   ]
  },
  {
   "cell_type": "code",
   "execution_count": 4,
   "metadata": {},
   "outputs": [
    {
     "name": "stdout",
     "output_type": "stream",
     "text": [
      "{11, 1.0, (1, 2, 3), 'Hello'}\n",
      "{'ABC', 1.0, 11, (1, 2, 3), 'Hello'}\n",
      "{1.0, 11, (1, 2, 3), 'Hello'}\n"
     ]
    }
   ],
   "source": [
    "# ⦁\tWrite a Python program to remove item(s) from set \n",
    "my_set = {1.0, \"Hello\", (1, 2, 3)}\n",
    "my_set.add(11)\n",
    "print(my_set)\n",
    "my_set.add(\"ABC\")\n",
    "print(my_set)\n",
    "my_set.remove(\"ABC\")\n",
    "print(my_set)\n",
    "\n"
   ]
  },
  {
   "cell_type": "code",
   "execution_count": 5,
   "metadata": {},
   "outputs": [
    {
     "name": "stdout",
     "output_type": "stream",
     "text": [
      "{11, 1.0, (1, 2, 3), 'Hello'}\n",
      "{'ABC', 1.0, 11, (1, 2, 3), 'Hello'}\n",
      "{1.0, 11, (1, 2, 3), 'Hello'}\n"
     ]
    }
   ],
   "source": [
    "# ⦁\tWrite a Python program to remove an item from a set if it is present in the set.\n",
    "my_set = {1.0, \"Hello\", (1, 2, 3)}\n",
    "my_set.add(11)\n",
    "print(my_set)\n",
    "my_set.add(\"ABC\")\n",
    "print(my_set)\n",
    "\n",
    "if \"ABC\" in my_set:\n",
    "    my_set.remove(\"ABC\")\n",
    "    \n",
    "print(my_set)\n"
   ]
  },
  {
   "cell_type": "code",
   "execution_count": 6,
   "metadata": {},
   "outputs": [
    {
     "name": "stdout",
     "output_type": "stream",
     "text": [
      "Original set elements:\n",
      "{1, 2, 3, 'Hello'}\n",
      "{1.0, (1, 2, 3), 'Hello'}\n",
      "\n",
      "Intersection of two said sets:\n",
      "{1.0, 'Hello'}\n"
     ]
    }
   ],
   "source": [
    "# ⦁\tWrite a Python program to create an intersection of sets. \n",
    "setx = {1, 2, 3, \"Hello\"}\n",
    "sety = {1.0, \"Hello\", (1,2,3)}\n",
    "print(\"Original set elements:\")\n",
    "print(setx)\n",
    "print(sety)\n",
    "print(\"\\nIntersection of two said sets:\")\n",
    "result = setx.intersection(sety)\n",
    "print(result)"
   ]
  },
  {
   "cell_type": "code",
   "execution_count": 7,
   "metadata": {},
   "outputs": [
    {
     "name": "stdout",
     "output_type": "stream",
     "text": [
      "Original set elements:\n",
      "{1, 2, 3, 'Hello'}\n",
      "{1.0, (1, 2, 3), 'Hello'}\n",
      "\n",
      "Intersection of two said sets:\n",
      "{1, 2, 3, (1, 2, 3), 'Hello'}\n"
     ]
    }
   ],
   "source": [
    "# ⦁\tWrite a Python program to create a union of sets.\n",
    "setx = {1, 2, 3, \"Hello\"}\n",
    "sety = {1.0, \"Hello\", (1,2,3)}\n",
    "print(\"Original set elements:\")\n",
    "print(setx)\n",
    "print(sety)\n",
    "print(\"\\nIntersection of two said sets:\")\n",
    "result = setx.union(sety)\n",
    "print(result)"
   ]
  },
  {
   "cell_type": "code",
   "execution_count": 8,
   "metadata": {},
   "outputs": [
    {
     "name": "stdout",
     "output_type": "stream",
     "text": [
      "Original set elements:\n",
      "{1, 2, 3, 'Hello'}\n",
      "{1.0, (1, 2, 3), 'Hello'}\n",
      "\n",
      "difference of two said sets: first x-y then y-x\n",
      "{2, 3}\n",
      "{(1, 2, 3)}\n"
     ]
    }
   ],
   "source": [
    "# ⦁\tWrite a Python program to create set difference.\n",
    "setx = {1, 2, 3, \"Hello\"}\n",
    "sety = {1.0, \"Hello\", (1,2,3)}\n",
    "print(\"Original set elements:\")\n",
    "print(setx)\n",
    "print(sety)\n",
    "print(\"\\ndifference of two said sets: first x-y then y-x\")\n",
    "result = setx.difference(sety)\n",
    "print(result)\n",
    "\n",
    "result = sety.difference(setx)\n",
    "print(result)"
   ]
  },
  {
   "cell_type": "code",
   "execution_count": 9,
   "metadata": {},
   "outputs": [
    {
     "name": "stdout",
     "output_type": "stream",
     "text": [
      "Original set elements:\n",
      "{1, 2, 3, 'Hello'}\n",
      "{1.0, (1, 2, 3), 'Hello'}\n",
      "\n",
      "difference of two said sets: first x-y then y-x\n",
      "{2, 3, (1, 2, 3)}\n",
      "{2, 3, (1, 2, 3)}\n"
     ]
    }
   ],
   "source": [
    "# ⦁\tWrite a Python program to create a symmetric difference.\\\n",
    "setx = {1, 2, 3, \"Hello\"}\n",
    "sety = {1.0, \"Hello\", (1,2,3)}\n",
    "print(\"Original set elements:\")\n",
    "print(setx)\n",
    "print(sety)\n",
    "print(\"\\ndifference of two said sets: first x-y then y-x\")\n",
    "result = setx.symmetric_difference(sety)\n",
    "print(result)\n",
    "\n",
    "result = sety.symmetric_difference(setx)\n",
    "print(result)"
   ]
  },
  {
   "cell_type": "code",
   "execution_count": 10,
   "metadata": {},
   "outputs": [
    {
     "name": "stdout",
     "output_type": "stream",
     "text": [
      "True\n",
      "False\n",
      "True\n",
      "True\n"
     ]
    }
   ],
   "source": [
    "# ⦁\tWrite a Python program to issubset and issuperset.\n",
    "A = {1, 2, 3, 4, 5}\n",
    "B = {1, 2, 3}\n",
    "C = {1, 2, 3}\n",
    "\n",
    "print(A.issuperset(B))\n",
    "print(B.issuperset(A))\n",
    "print(B.issubset(A))\n",
    "print(C.issuperset(B))"
   ]
  },
  {
   "cell_type": "code",
   "execution_count": 11,
   "metadata": {},
   "outputs": [
    {
     "name": "stdout",
     "output_type": "stream",
     "text": [
      "{1, 2, 3}\n"
     ]
    }
   ],
   "source": [
    "# ⦁\tWrite a Python program to create a shallow copy of sets.\n",
    "my_set = {1, 2, 3}\n",
    "my_set2 = {1.0, \"Hello\", (1, 2, 3)}\n",
    "set3 = my_set.copy()\n",
    "print(set3)"
   ]
  },
  {
   "cell_type": "code",
   "execution_count": 12,
   "metadata": {},
   "outputs": [
    {
     "name": "stdout",
     "output_type": "stream",
     "text": [
      "{1.0, (1, 2, 3), 'Hello'}\n",
      "set()\n"
     ]
    }
   ],
   "source": [
    "# ⦁\tWrite a Python program to clear a set.\n",
    "my_set = {1.0, \"Hello\", (1, 2, 3)}\n",
    "print(my_set)\n",
    "my_set.clear()\n",
    "print(my_set)"
   ]
  }
 ],
 "metadata": {
  "interpreter": {
   "hash": "458a8cc7b148a026ef3f725b0d7d7a413cd7f7625d92b5013d2d239859459c87"
  },
  "kernelspec": {
   "display_name": "Python 3.9.7 64-bit",
   "name": "python3"
  },
  "language_info": {
   "codemirror_mode": {
    "name": "ipython",
    "version": 3
   },
   "file_extension": ".py",
   "mimetype": "text/x-python",
   "name": "python",
   "nbconvert_exporter": "python",
   "pygments_lexer": "ipython3",
   "version": "3.9.7"
  },
  "orig_nbformat": 4
 },
 "nbformat": 4,
 "nbformat_minor": 2
}
