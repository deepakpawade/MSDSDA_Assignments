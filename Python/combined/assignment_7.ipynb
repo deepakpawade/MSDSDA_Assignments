{
 "cells": [
  {
   "cell_type": "code",
   "execution_count": 2,
   "metadata": {},
   "outputs": [
    {
     "name": "stdout",
     "output_type": "stream",
     "text": [
      "Add two Panda Series:\n",
      "0     3\n",
      "1     7\n",
      "2    11\n",
      "3    15\n",
      "4    19\n",
      "dtype: int64\n",
      "Subtract two Panda Series:\n",
      "0    1\n",
      "1    1\n",
      "2    1\n",
      "3    1\n",
      "4    1\n",
      "dtype: int64\n",
      "Multiply two Panda Series:\n",
      "0     2\n",
      "1    12\n",
      "2    30\n",
      "3    56\n",
      "4    90\n",
      "dtype: int64\n",
      "Divide two Panda Series:\n",
      "0    2.000000\n",
      "1    1.333333\n",
      "2    1.200000\n",
      "3    1.142857\n",
      "4    1.111111\n",
      "dtype: float64\n"
     ]
    }
   ],
   "source": [
    "#1.\tWrite a Pandas program to add, subtract, multiple and divide two Pandas Series. \n",
    "#Sample Series: [2, 4, 6, 8, 10], [1, 3, 5, 7, 9]\n",
    "import pandas as pd\n",
    "d1 = pd.Series([2, 4, 6, 8, 10])\n",
    "d2 = pd.Series([1, 3, 5, 7, 9])\n",
    "ds = d1 + d2\n",
    "print(\"Add two Panda Series:\")\n",
    "print(ds)\n",
    "print(\"Subtract two Panda Series:\")\n",
    "ds = d1 - d2\n",
    "print(ds)\n",
    "print(\"Multiply two Panda Series:\")\n",
    "ds = d1 * d2\n",
    "print(ds)\n",
    "print(\"Divide two Panda Series:\")\n",
    "ds = d1 / d2\n",
    "print(ds)"
   ]
  },
  {
   "cell_type": "code",
   "execution_count": 3,
   "metadata": {},
   "outputs": [
    {
     "name": "stdout",
     "output_type": "stream",
     "text": [
      "Compare the elements of two Series:\n",
      "Equals:\n",
      "0    False\n",
      "1    False\n",
      "2    False\n",
      "3    False\n",
      "4     True\n",
      "dtype: bool\n"
     ]
    }
   ],
   "source": [
    "#2.\tWrite a Pandas program to compare the elements of the two Pandas Series. \n",
    "#Sample Series: [2, 4, 6, 8, 10], [1, 3, 5, 7, 10]\n",
    "import pandas as pd\n",
    "s1 = pd.Series([2, 4, 6, 8, 10])\n",
    "s2 = pd.Series([1, 3, 5, 7, 10])\n",
    "print(\"Compare the elements of two Series:\")\n",
    "print(\"Equals:\")\n",
    "print(s1 == s2)\n"
   ]
  },
  {
   "cell_type": "code",
   "execution_count": 4,
   "metadata": {},
   "outputs": [
    {
     "name": "stdout",
     "output_type": "stream",
     "text": [
      "0       11\n",
      "1       22\n",
      "2    swift\n",
      "3    30.82\n",
      "4       33\n",
      "dtype: object\n",
      "Change the data type to numeric:\n",
      "0    11.00\n",
      "1    22.00\n",
      "2      NaN\n",
      "3    30.82\n",
      "4    33.00\n",
      "dtype: float64\n"
     ]
    }
   ],
   "source": [
    "#Write a Pandas program to change the data type of given a column or a Series.  \n",
    "import pandas as pd\n",
    "s1 = pd.Series(['11', '22', 'swift', '30.82', '33'])\n",
    "print(s1)\n",
    "print(\"Change the data type to numeric:\")\n",
    "s2 = pd.to_numeric(s1, errors='coerce')\n",
    "print(s2) "
   ]
  },
  {
   "cell_type": "code",
   "execution_count": 5,
   "metadata": {},
   "outputs": [
    {
     "name": "stdout",
     "output_type": "stream",
     "text": [
      "0       17\n",
      "1       15\n",
      "2       52\n",
      "3    18.21\n",
      "4    Paris\n",
      "dtype: object\n",
      "Converting to an array\n",
      "['17' '15' '52' '18.21' 'Paris']\n"
     ]
    }
   ],
   "source": [
    "#Write a Pandas program to convert a given Series to an array.  \n",
    "import pandas as pd\n",
    "import numpy as np\n",
    "s1 = pd.Series(['17', '15', '52', '18.21', 'Paris'])\n",
    "print(s1)\n",
    "print(\"Converting to an array\")\n",
    "a = np.array(s1.values.tolist())\n",
    "print (a)"
   ]
  },
  {
   "cell_type": "code",
   "execution_count": 8,
   "metadata": {},
   "outputs": [
    {
     "name": "stdout",
     "output_type": "stream",
     "text": [
      "0    Paris\n",
      "1       21\n",
      "2    Tokyo\n",
      "3    27.21\n",
      "4       41\n",
      "dtype: object\n",
      "1       21\n",
      "3    27.21\n",
      "4       41\n",
      "0    Paris\n",
      "2    Tokyo\n",
      "dtype: object\n"
     ]
    }
   ],
   "source": [
    "#Write a Pandas program to sort a given Series.   \n",
    "import pandas as pd\n",
    "p = pd.Series(['Paris', '21', 'Tokyo', '27.21', '41'])\n",
    "print(p)\n",
    "new_p = pd.Series(p).sort_values()\n",
    "print(new_p)"
   ]
  },
  {
   "cell_type": "code",
   "execution_count": 7,
   "metadata": {},
   "outputs": [
    {
     "name": "stdout",
     "output_type": "stream",
     "text": [
      "0    1\n",
      "1    2\n",
      "2    3\n",
      "3    4\n",
      "4    5\n",
      "5    6\n",
      "dtype: int64\n",
      "Mean: 3.5\n",
      "Standard deviation: 1.8708286933869707\n"
     ]
    }
   ],
   "source": [
    "#Write a Pandas program to create the mean and standard deviation of the data of a given Series. \n",
    "import pandas as pd\n",
    "s = pd.Series(data = [1,2,3,4,5,6])\n",
    "print(s)\n",
    "print(\"Mean:\",s.mean())\n",
    "print(\"Standard deviation:\",s.std())\n"
   ]
  },
  {
   "cell_type": "code",
   "execution_count": 9,
   "metadata": {},
   "outputs": [
    {
     "name": "stdout",
     "output_type": "stream",
     "text": [
      "\n",
      "Items of sr1 not present in sr2:\n",
      "0    7\n",
      "4    5\n",
      "dtype: int64\n"
     ]
    }
   ],
   "source": [
    "#Write a Pandas program to get the items of a given series not present in another given series. \n",
    "import pandas as pd\n",
    "sr1 = pd.Series([7, 2, 10, 4, 5])\n",
    "sr2 = pd.Series([2, 4, 6, 8, 10])\n",
    "print(\"\\nItems of sr1 not present in sr2:\")\n",
    "result = sr1[~sr1.isin(sr2)]\n",
    "print(result)"
   ]
  },
  {
   "cell_type": "code",
   "execution_count": 10,
   "metadata": {},
   "outputs": [
    {
     "name": "stdout",
     "output_type": "stream",
     "text": [
      "\n",
      "Items of a given series not present in another given series:\n",
      "0     1\n",
      "2     3\n",
      "4     5\n",
      "5     6\n",
      "6     8\n",
      "7    10\n",
      "dtype: int64\n"
     ]
    }
   ],
   "source": [
    "#Write a Pandas program to get the items which are not common of two given series. \n",
    "import pandas as pd\n",
    "import numpy as np\n",
    "sr1 = pd.Series([1, 2, 3, 4, 5])\n",
    "sr2 = pd.Series([2, 4, 6, 8, 10])\n",
    "print(\"\\nItems of a given series not present in another given series:\")\n",
    "sr11 = pd.Series(np.union1d(sr1, sr2))\n",
    "sr22 = pd.Series(np.intersect1d(sr1, sr2))\n",
    "result = sr11[~sr11.isin(sr22)]\n",
    "print(result)"
   ]
  },
  {
   "cell_type": "code",
   "execution_count": 11,
   "metadata": {},
   "outputs": [
    {
     "name": "stdout",
     "output_type": "stream",
     "text": [
      "Original Series:\n",
      "0      3.758592\n",
      "1      9.876090\n",
      "2      7.516286\n",
      "3      4.141678\n",
      "4     15.647784\n",
      "5      8.093071\n",
      "6      6.878123\n",
      "7     14.281071\n",
      "8      4.870830\n",
      "9      4.690084\n",
      "10    10.505351\n",
      "11    13.448775\n",
      "12    12.786948\n",
      "13     8.661739\n",
      "14     6.009896\n",
      "15    16.395633\n",
      "16    23.256301\n",
      "17    13.951082\n",
      "18    10.495465\n",
      "19    12.971142\n",
      "dtype: float64\n",
      "\n",
      "Minimum, 25th percentile, median, 75th, and maximum of a given series:\n",
      "[ 3.75859157  6.66106629 10.18577731 13.57435161 23.25630138]\n"
     ]
    }
   ],
   "source": [
    "#Write a Pandas program to compute the minimum, 25th percentile, median, 75th, and maximum of a given series.\n",
    "import pandas as pd\n",
    "import numpy as np\n",
    "num_state = np.random.RandomState(50)\n",
    "num_series = pd.Series(num_state.normal(10, 4, 20))\n",
    "print(\"Original Series:\")\n",
    "print(num_series)\n",
    "result = np.percentile(num_series, q=[0, 25, 50, 75, 100])\n",
    "print(\"\\nMinimum, 25th percentile, median, 75th, and maximum of a given series:\")\n",
    "print(result)\n"
   ]
  },
  {
   "cell_type": "code",
   "execution_count": 12,
   "metadata": {},
   "outputs": [
    {
     "name": "stdout",
     "output_type": "stream",
     "text": [
      "Original Series:\n",
      "0     2\n",
      "1     2\n",
      "2     1\n",
      "3     4\n",
      "4     2\n",
      "5     2\n",
      "6     3\n",
      "7     1\n",
      "8     1\n",
      "9     3\n",
      "10    3\n",
      "11    4\n",
      "12    1\n",
      "13    1\n",
      "14    4\n",
      "dtype: int32\n",
      "Top 2 Freq: 1    5\n",
      "2    4\n",
      "4    3\n",
      "3    3\n",
      "dtype: int64\n",
      "0     Other\n",
      "1     Other\n",
      "2         1\n",
      "3     Other\n",
      "4     Other\n",
      "5     Other\n",
      "6     Other\n",
      "7         1\n",
      "8         1\n",
      "9     Other\n",
      "10    Other\n",
      "11    Other\n",
      "12        1\n",
      "13        1\n",
      "14    Other\n",
      "dtype: object\n"
     ]
    }
   ],
   "source": [
    "#Write a Pandas program to display most frequent value in a given series and replace everything else as 'Other' in the series.\n",
    "import pandas as pd\n",
    "import numpy as np\n",
    "np.random.RandomState(100)\n",
    "num_series = pd.Series(np.random.randint(1, 5, [15]))\n",
    "print(\"Original Series:\")\n",
    "print(num_series)\n",
    "print(\"Top 2 Freq:\", num_series.value_counts())\n",
    "result = num_series[~num_series.isin(num_series.value_counts().index[:1])] = 'Other'\n",
    "print(num_series)"
   ]
  },
  {
   "cell_type": "code",
   "execution_count": 13,
   "metadata": {},
   "outputs": [
    {
     "name": "stdout",
     "output_type": "stream",
     "text": [
      "\n",
      "Extract items at given positions of the said series:\n",
      "0     2\n",
      "2     9\n",
      "6     8\n",
      "11    0\n",
      "21    3\n",
      "dtype: object\n"
     ]
    }
   ],
   "source": [
    "#Write a Pandas program to extract items at given positions of a given series. \n",
    "import pandas as pd\n",
    "num_series = pd.Series(list('2390238923902390239023'))\n",
    "element_pos = [0, 2, 6, 11, 21]\n",
    "result = num_series.take(element_pos)\n",
    "print(\"\\nExtract items at given positions of the said series:\")\n",
    "print(result)"
   ]
  },
  {
   "cell_type": "code",
   "execution_count": 14,
   "metadata": {},
   "outputs": [
    {
     "name": "stdout",
     "output_type": "stream",
     "text": [
      "First and last character of each word to upper case:\n",
      "0    LondoN\n",
      "1    MumbaI\n",
      "2     PariS\n",
      "3    MadriD\n",
      "dtype: object\n"
     ]
    }
   ],
   "source": [
    "#Write a Pandas program convert the first and last character of each word to upper case in each word of a given series. \n",
    "import pandas as pd\n",
    "s = pd.Series(['london', 'mumbai', 'paris', 'madrid'])\n",
    "result = s.map(lambda x: x[0].upper() + x[1:-1] + x[-1].upper())\n",
    "print(\"First and last character of each word to upper case:\")\n",
    "print(result)"
   ]
  },
  {
   "cell_type": "code",
   "execution_count": 15,
   "metadata": {},
   "outputs": [
    {
     "name": "stdout",
     "output_type": "stream",
     "text": [
      "Date strings to a timeseries:\n",
      "0   2011-04-02 00:00:00\n",
      "1   2018-06-22 00:00:00\n",
      "2   2020-03-07 00:00:00\n",
      "3   2021-05-06 00:00:00\n",
      "4   2010-04-12 00:00:00\n",
      "5   2019-04-06 11:20:00\n",
      "dtype: datetime64[ns]\n"
     ]
    }
   ],
   "source": [
    "#Write a Pandas program to convert a series of date strings to a timeseries. \n",
    "import pandas as pd\n",
    "date_series = pd.Series(['02 Apr 2011', '22-06-2018', '20200307', '2021/05/06', '2010-04-12', '2019-04-06T11:20'])\n",
    "print(\"Date strings to a timeseries:\")\n",
    "print(pd.to_datetime(date_series))"
   ]
  },
  {
   "cell_type": "code",
   "execution_count": 19,
   "metadata": {},
   "outputs": [
    {
     "name": "stdout",
     "output_type": "stream",
     "text": [
      "Original Series:\n",
      "0         01 Jan 2015\n",
      "1          10-02-2016\n",
      "2            20180307\n",
      "3          2014/05/06\n",
      "4          2016-04-12\n",
      "5    2019-04-06T11:20\n",
      "dtype: object\n",
      "Day of month:\n",
      "[1, 2, 7, 6, 12, 6]\n",
      "Day of year:\n",
      "[1, 276, 66, 126, 103, 96]\n",
      "Week number:\n",
      "[1, 39, 10, 19, 15, 14]\n",
      "Day of week:\n",
      "[1, 39, 10, 19, 15, 14]\n"
     ]
    },
    {
     "name": "stderr",
     "output_type": "stream",
     "text": [
      "C:\\Users\\deepdesk\\AppData\\Local\\Temp/ipykernel_6104/1185217349.py:12: FutureWarning: Series.dt.weekofyear and Series.dt.week have been deprecated.  Please use Series.dt.isocalendar().week instead.\n",
      "  print(date_series.dt.weekofyear.tolist())\n"
     ]
    }
   ],
   "source": [
    "import pandas as pd\n",
    "from dateutil.parser import parse\n",
    "date_series = pd.Series(['01 Jan 2015', '10-02-2016', '20180307', '2014/05/06', '2016-04-12', '2019-04-06T11:20'])\n",
    "print(\"Original Series:\")\n",
    "print(date_series)\n",
    "date_series = date_series.map(lambda x: parse(x))\n",
    "print(\"Day of month:\")\n",
    "print(date_series.dt.day.tolist())\n",
    "print(\"Day of year:\")\n",
    "print(date_series.dt.dayofyear.tolist())\n",
    "print(\"Week number:\")\n",
    "print(date_series.dt.weekofyear.tolist())\n",
    "print(\"Day of week:\")\n",
    "print(date_series.dt.isocalendar().week.tolist())"
   ]
  },
  {
   "cell_type": "code",
   "execution_count": 20,
   "metadata": {},
   "outputs": [
    {
     "name": "stdout",
     "output_type": "stream",
     "text": [
      "Number of characters in each word in the said series:\n",
      "0    5\n",
      "1    6\n",
      "2    5\n",
      "3    4\n",
      "dtype: int64\n"
     ]
    }
   ],
   "source": [
    "#Write a Pandas program to calculate the number of characters in each word in a given series.\n",
    "import pandas as pd\n",
    "series1 = pd.Series(['tokyo', 'mumbai', 'paris', 'rome'])\n",
    "result = series1.map(lambda x: len(x))\n",
    "print(\"Number of characters in each word in the said series:\")\n",
    "print(result)"
   ]
  },
  {
   "cell_type": "code",
   "execution_count": 21,
   "metadata": {},
   "outputs": [
    {
     "name": "stdout",
     "output_type": "stream",
     "text": [
      "    X   Y   Z\n",
      "0  78  84  86\n",
      "1  85  94  97\n",
      "2  96  89  96\n",
      "3  80  83  72\n",
      "4  86  86  83\n"
     ]
    }
   ],
   "source": [
    "#Write a Pandas program to get the powers of an array values element-wise.  Note: First array elements raised to powers from second array\n",
    "import pandas as pd\n",
    "df = pd.DataFrame({'X':[78,85,96,80,86], 'Y':[84,94,89,83,86],'Z':[86,97,96,72,83]});\n",
    "print(df)"
   ]
  },
  {
   "cell_type": "code",
   "execution_count": 22,
   "metadata": {},
   "outputs": [
    {
     "name": "stdout",
     "output_type": "stream",
     "text": [
      "      Name  Goals  attempts qualify\n",
      "a  Ronaldo   41.0        55     yes\n",
      "b    Messi   40.0        57     yes\n",
      "c  Benzima   38.0        56     yes\n",
      "d    Pique    NaN         4      no\n",
      "e    Ramos    9.0        20      no\n"
     ]
    }
   ],
   "source": [
    "#Write a Pandas program to create and display a DataFrame from a specified dictionary data which has the index labels.\n",
    "import pandas as pd\n",
    "import numpy as np\n",
    "\n",
    "exam_data  = {'Name': ['Ronaldo', 'Messi', 'Benzima', 'Pique', 'Ramos'],\n",
    "        'Goals': [41, 40, 38, np.nan, 9,],\n",
    "        'attempts': [55, 57, 56, 4, 20],\n",
    "        'qualify': ['yes', 'yes', 'yes', 'no', 'no']}\n",
    "labels = ['a', 'b', 'c', 'd', 'e']\n",
    "\n",
    "df = pd.DataFrame(exam_data , index=labels)\n",
    "print(df)"
   ]
  },
  {
   "cell_type": "code",
   "execution_count": 23,
   "metadata": {},
   "outputs": [
    {
     "name": "stdout",
     "output_type": "stream",
     "text": [
      "Summary of the basic information about this DataFrame and its data:\n",
      "<class 'pandas.core.frame.DataFrame'>\n",
      "Index: 5 entries, a to e\n",
      "Data columns (total 4 columns):\n",
      " #   Column    Non-Null Count  Dtype  \n",
      "---  ------    --------------  -----  \n",
      " 0   Name      5 non-null      object \n",
      " 1   Goals     4 non-null      float64\n",
      " 2   attempts  5 non-null      int64  \n",
      " 3   qualify   5 non-null      object \n",
      "dtypes: float64(1), int64(1), object(2)\n",
      "memory usage: 200.0+ bytes\n",
      "None\n"
     ]
    }
   ],
   "source": [
    "#Write a Pandas program to display a summary of the basic information about a specified DataFrame and its data.\n",
    "import pandas as pd\n",
    "import numpy as np\n",
    "\n",
    "exam_data  = {'Name': ['Ronaldo', 'Messi', 'Benzima', 'Pique', 'Ramos'],\n",
    "        'Goals': [41, 40, 38, np.nan, 9,],\n",
    "        'attempts': [55, 57, 56, 4, 20],\n",
    "        'qualify': ['yes', 'yes', 'yes', 'no', 'no']}\n",
    "labels = ['a', 'b', 'c', 'd', 'e']\n",
    "\n",
    "df = pd.DataFrame(exam_data , index=labels)\n",
    "print(\"Summary of the basic information about this DataFrame and its data:\")\n",
    "print(df.info())"
   ]
  },
  {
   "cell_type": "code",
   "execution_count": 24,
   "metadata": {},
   "outputs": [
    {
     "name": "stdout",
     "output_type": "stream",
     "text": [
      "First three rows of the data frame:\n",
      "      Name  Goals  attempts qualify\n",
      "a  Ronaldo   41.0        55     yes\n",
      "b    Messi   40.0        57     yes\n",
      "c  Benzima   38.0        56     yes\n"
     ]
    }
   ],
   "source": [
    "import pandas as pd\n",
    "import numpy as np\n",
    "\n",
    "exam_data  = {'Name': ['Ronaldo', 'Messi', 'Benzima', 'Pique', 'Ramos'],\n",
    "        'Goals': [41, 40, 38, np.nan, 9,],\n",
    "        'attempts': [55, 57, 56, 4, 20],\n",
    "        'qualify': ['yes', 'yes', 'yes', 'no', 'no']}\n",
    "labels = ['a', 'b', 'c', 'd', 'e']\n",
    "df = pd.DataFrame(exam_data , index=labels)\n",
    "print(\"First three rows of the data frame:\")\n",
    "print(df.iloc[:3])"
   ]
  },
  {
   "cell_type": "code",
   "execution_count": 25,
   "metadata": {},
   "outputs": [
    {
     "name": "stdout",
     "output_type": "stream",
     "text": [
      "Select specific columns and rows:\n",
      "   Goals qualify\n",
      "b   40.0     yes\n",
      "d    NaN      no\n",
      "e    9.0      no\n"
     ]
    }
   ],
   "source": [
    "import pandas as pd\n",
    "import numpy as np\n",
    "\n",
    "exam_data  = {'Name': ['Ronaldo', 'Messi', 'Benzima', 'Pique', 'Ramos'],\n",
    "        'Goals': [41, 40, 38, np.nan, 9,],\n",
    "        'attempts': [55, 57, 56, 4, 20],\n",
    "        'qualify': ['yes', 'yes', 'yes', 'no', 'no']}\n",
    "labels = ['a', 'b', 'c', 'd', 'e']\n",
    "\n",
    "df = pd.DataFrame(exam_data , index=labels)\n",
    "print(\"Select specific columns and rows:\")\n",
    "print(df.iloc[[1, 3, 4,], [1, 3]])\n"
   ]
  },
  {
   "cell_type": "code",
   "execution_count": 26,
   "metadata": {},
   "outputs": [
    {
     "name": "stdout",
     "output_type": "stream",
     "text": [
      "Number of Rows: 5\n",
      "Number of Columns: 4\n"
     ]
    }
   ],
   "source": [
    "#Write a Pandas program to count the number of rows and columns of a DataFrame.\n",
    "import pandas as pd\n",
    "import numpy as np\n",
    "\n",
    "exam_data  = {'Name': ['Ronaldo', 'Messi', 'Benzima', 'Pique', 'Ramos'],\n",
    "        'Goals': [41, 40, 38, np.nan, 9,],\n",
    "        'attempts': [55, 57, 56, 4, 20],\n",
    "        'qualify': ['yes', 'yes', 'yes', 'no', 'no']}\n",
    "labels = ['a', 'b', 'c', 'd', 'e']\n",
    "\n",
    "df = pd.DataFrame(exam_data , index=labels)\n",
    "total_rows=len(df.axes[0])\n",
    "total_cols=len(df.axes[1])\n",
    "print(\"Number of Rows: \"+str(total_rows))\n",
    "print(\"Number of Columns: \"+str(total_cols))"
   ]
  },
  {
   "cell_type": "code",
   "execution_count": 27,
   "metadata": {},
   "outputs": [
    {
     "name": "stdout",
     "output_type": "stream",
     "text": [
      "Number of Rows: 5\n",
      "Number of Columns: 4\n"
     ]
    }
   ],
   "source": [
    "#Write a Pandas program to count the number of rows and columns of a DataFrame.\n",
    "import pandas as pd\n",
    "import numpy as np\n",
    "\n",
    "exam_data  = {'Name': ['Ronaldo', 'Messi', 'Benzima', 'Pique', 'Ramos'],\n",
    "        'Goals': [41, 40, 38, np.nan, 9,],\n",
    "        'attempts': [55, 57, 56, 4, 20],\n",
    "        'qualify': ['yes', 'yes', 'yes', 'no', 'no']}\n",
    "labels = ['a', 'b', 'c', 'd', 'e']\n",
    "\n",
    "df = pd.DataFrame(exam_data , index=labels)\n",
    "total_rows=len(df.axes[0])\n",
    "total_cols=len(df.axes[1])\n",
    "print(\"Number of Rows: \"+str(total_rows))\n",
    "print(\"Number of Columns: \"+str(total_cols))"
   ]
  },
  {
   "cell_type": "code",
   "execution_count": 28,
   "metadata": {},
   "outputs": [
    {
     "name": "stdout",
     "output_type": "stream",
     "text": [
      "Number of attempts in the examination is less than 2 and score greater than 15 :\n",
      "    name  score  attempts qualify\n",
      "j  Jonas   19.0         1     yes\n"
     ]
    }
   ],
   "source": [
    "#Write a Pandas program to select the rows where number of attempts in the examination is less than 2 and score greater than 15.  \n",
    "#Sample Python dictionary data and list labels:\n",
    "#exam_data = {'name': ['Anastasia', 'Dima', 'Katherine', 'James', 'Emily', 'Michael', 'Matthew', 'Laura', 'Kevin', 'Jonas'],\n",
    "#'score': [12.5, 9, 16.5, np.nan, 9, 20, 14.5, np.nan, 8, 19],\n",
    "#'attempts': [1, 3, 2, 3, 2, 3, 1, 1, 2, 1],\n",
    "#'qualify': ['yes', 'no', 'yes', 'no', 'no', 'yes', 'yes', 'no', 'no', 'yes']}\n",
    "#labels = ['a', 'b', 'c', 'd', 'e', 'f', 'g', labels = ['a', 'b', 'c', 'd', 'e', 'f', 'g', 'h', 'i', 'j']\n",
    "#Expected Output:\n",
    "#Number of attempts in the examination is less than 2 and score greater than 15 :\n",
    "#name score attempts qualify\n",
    "#j Jonas 19.0 1 yes\n",
    "import pandas as pd\n",
    "import numpy as np\n",
    "exam_data  = {'name': ['Anastasia', 'Dima', 'Katherine', 'James', 'Emily', 'Michael', 'Matthew', 'Laura', 'Kevin', 'Jonas'],\n",
    "        'score': [12.5, 9, 16.5, np.nan, 9, 20, 14.5, np.nan, 8, 19],\n",
    "        'attempts': [1, 3, 2, 3, 2, 3, 1, 1, 2, 1],\n",
    "        'qualify': ['yes', 'no', 'yes', 'no', 'no', 'yes', 'yes', 'no', 'no', 'yes']}\n",
    "labels = ['a', 'b', 'c', 'd', 'e', 'f', 'g', 'h', 'i', 'j']\n",
    "df = pd.DataFrame(exam_data , index=labels)\n",
    "print(\"Number of attempts in the examination is less than 2 and score greater than 15 :\")\n",
    "print(df[(df['attempts'] < 2) & (df['score'] > 15)])"
   ]
  },
  {
   "cell_type": "code",
   "execution_count": 29,
   "metadata": {},
   "outputs": [
    {
     "name": "stdout",
     "output_type": "stream",
     "text": [
      "\n",
      "Sum of the examination attempts by the students:\n",
      "19\n"
     ]
    }
   ],
   "source": [
    "#Write a Pandas program to calculate the sum of the examination attempts by the students. (refer previous question 8’s sample data)\n",
    "import pandas as pd\n",
    "import numpy as np\n",
    "exam_data  = {'name': ['Anastasia', 'Dima', 'Katherine', 'James', 'Emily', 'Michael', 'Matthew', 'Laura', 'Kevin', 'Jonas'],\n",
    "        'score': [12.5, 9, 16.5, np.nan, 9, 20, 14.5, np.nan, 8, 19],\n",
    "        'attempts': [1, 3, 2, 3, 2, 3, 1, 1, 2, 1],\n",
    "        'qualify': ['yes', 'no', 'yes', 'no', 'no', 'yes', 'yes', 'no', 'no', 'yes']}\n",
    "labels = ['a', 'b', 'c', 'd', 'e', 'f', 'g', 'h', 'i', 'j']\n",
    "\n",
    "df = pd.DataFrame(exam_data , index=labels)\n",
    "print(\"\\nSum of the examination attempts by the students:\")\n",
    "print(df['attempts'].sum())"
   ]
  },
  {
   "cell_type": "code",
   "execution_count": 30,
   "metadata": {},
   "outputs": [
    {
     "name": "stdout",
     "output_type": "stream",
     "text": [
      "\n",
      "Mean score for each different student in data frame:\n",
      "13.5625\n"
     ]
    }
   ],
   "source": [
    "#Write a Pandas program to calculate the mean score for each different student in DataFrame. (refer previous question 8’s sample data)\n",
    "import pandas as pd\n",
    "import numpy as np\n",
    "exam_data  = {'name': ['Anastasia', 'Dima', 'Katherine', 'James', 'Emily', 'Michael', 'Matthew', 'Laura', 'Kevin', 'Jonas'],\n",
    "        'score': [12.5, 9, 16.5, np.nan, 9, 20, 14.5, np.nan, 8, 19],\n",
    "        'attempts': [1, 3, 2, 3, 2, 3, 1, 1, 2, 1],\n",
    "        'qualify': ['yes', 'no', 'yes', 'no', 'no', 'yes', 'yes', 'no', 'no', 'yes']}\n",
    "labels = ['a', 'b', 'c', 'd', 'e', 'f', 'g', 'h', 'i', 'j']\n",
    "\n",
    "df = pd.DataFrame(exam_data , index=labels)\n",
    "print(\"\\nMean score for each different student in data frame:\")\n",
    "print(df['score'].mean())"
   ]
  },
  {
   "cell_type": "code",
   "execution_count": 31,
   "metadata": {},
   "outputs": [
    {
     "name": "stdout",
     "output_type": "stream",
     "text": [
      "Original rows:\n",
      "        name  score  attempts qualify\n",
      "a  Anastasia   12.5         1     yes\n",
      "b       Dima    9.0         3      no\n",
      "c  Katherine   16.5         2     yes\n",
      "d      James    NaN         3      no\n",
      "e      Emily    9.0         2      no\n",
      "f    Michael   20.0         3     yes\n",
      "g    Matthew   14.5         1     yes\n",
      "h      Laura    NaN         1      no\n",
      "i      Kevin    8.0         2      no\n",
      "j      Jonas   19.0         1     yes\n",
      "\n",
      "Append a new row:\n",
      "Print all records after insert a new record:\n",
      "        name   score attempts qualify\n",
      "a  Anastasia    12.5        1     yes\n",
      "b       Dima     9.0        3      no\n",
      "c  Katherine    16.5        2     yes\n",
      "d      James     NaN        3      no\n",
      "e      Emily     9.0        2      no\n",
      "f    Michael    20.0        3     yes\n",
      "g    Matthew    14.5        1     yes\n",
      "h      Laura     NaN        1      no\n",
      "i      Kevin     8.0        2      no\n",
      "j      Jonas    19.0        1     yes\n",
      "k          1  Suresh      yes    15.5\n",
      "\n",
      "Delete the new row and display the original  rows:\n",
      "        name score attempts qualify\n",
      "a  Anastasia  12.5        1     yes\n",
      "b       Dima   9.0        3      no\n",
      "c  Katherine  16.5        2     yes\n",
      "d      James   NaN        3      no\n",
      "e      Emily   9.0        2      no\n",
      "f    Michael  20.0        3     yes\n",
      "g    Matthew  14.5        1     yes\n",
      "h      Laura   NaN        1      no\n",
      "i      Kevin   8.0        2      no\n",
      "j      Jonas  19.0        1     yes\n"
     ]
    }
   ],
   "source": [
    "#Write a Pandas program to append a new row 'k' to data frame with given values for each column. Now delete the new row and return the original DataFrame. (refer previous question 8’s sample data)\n",
    "import pandas as pd\n",
    "import numpy as np\n",
    "exam_data  = {'name': ['Anastasia', 'Dima', 'Katherine', 'James', 'Emily', 'Michael', 'Matthew', 'Laura', 'Kevin', 'Jonas'],\n",
    "        'score': [12.5, 9, 16.5, np.nan, 9, 20, 14.5, np.nan, 8, 19],\n",
    "        'attempts': [1, 3, 2, 3, 2, 3, 1, 1, 2, 1],\n",
    "        'qualify': ['yes', 'no', 'yes', 'no', 'no', 'yes', 'yes', 'no', 'no', 'yes']}\n",
    "labels = ['a', 'b', 'c', 'd', 'e', 'f', 'g', 'h', 'i', 'j']\n",
    "df = pd.DataFrame(exam_data , index=labels)\n",
    "print(\"Original rows:\")\n",
    "print(df)\n",
    "print(\"\\nAppend a new row:\")\n",
    "df.loc['k'] = [1, 'Suresh', 'yes', 15.5]\n",
    "print(\"Print all records after insert a new record:\")\n",
    "print(df)\n",
    "print(\"\\nDelete the new row and display the original  rows:\")\n",
    "df = df.drop('k')\n",
    "print(df)"
   ]
  },
  {
   "cell_type": "code",
   "execution_count": 32,
   "metadata": {},
   "outputs": [
    {
     "name": "stdout",
     "output_type": "stream",
     "text": [
      "        name  score  attempts qualify\n",
      "a  Anastasia   12.5         1     yes\n",
      "b       Dima    9.0         3      no\n",
      "c  Katherine   16.5         2     yes\n",
      "d      James    NaN         3      no\n",
      "e      Emily    9.0         2      no\n",
      "f    Michael   20.0         3     yes\n",
      "g    Matthew   14.5         1     yes\n",
      "h      Laura    NaN         1      no\n",
      "i      Kevin    8.0         2      no\n",
      "j      Jonas   19.0         1     yes\n"
     ]
    }
   ],
   "source": [
    "#Write a Pandas program to sort the DataFrame first by 'name' in descending order, then by 'score' in ascending order. (refer previous question 8’s sample data)\n",
    "import pandas as pd\n",
    "import numpy as np\n",
    "exam_data  = {'name': ['Anastasia', 'Dima', 'Katherine', 'James', 'Emily', 'Michael', 'Matthew', 'Laura', 'Kevin', 'Jonas'],\n",
    "        'score': [12.5, 9, 16.5, np.nan, 9, 20, 14.5, np.nan, 8, 19],\n",
    "        'attempts': [1, 3, 2, 3, 2, 3, 1, 1, 2, 1],\n",
    "        'qualify': ['yes', 'no', 'yes', 'no', 'no', 'yes', 'yes', 'no', 'no', 'yes']}\n",
    "labels = ['a', 'b', 'c', 'd', 'e', 'f', 'g', 'h', 'i', 'j']\n",
    "df = pd.DataFrame(exam_data , index=labels)\n",
    "df.sort_values(by=['name', 'score'], ascending=[False, True])\n",
    "print(df)"
   ]
  },
  {
   "cell_type": "code",
   "execution_count": 33,
   "metadata": {},
   "outputs": [
    {
     "name": "stdout",
     "output_type": "stream",
     "text": [
      "Replace the 'qualify' column contains the values 'yes' and 'no'  with True and  False:\n",
      "        name  score  attempts  qualify\n",
      "a  Anastasia   12.5         1     True\n",
      "b       Dima    9.0         3    False\n",
      "c  Katherine   16.5         2     True\n",
      "d      James    NaN         3    False\n",
      "e      Emily    9.0         2    False\n",
      "f    Michael   20.0         3     True\n",
      "g    Matthew   14.5         1     True\n",
      "h      Laura    NaN         1    False\n",
      "i      Kevin    8.0         2    False\n",
      "j      Jonas   19.0         1     True\n"
     ]
    }
   ],
   "source": [
    "#Write a Pandas program to replace the 'qualify' column contains the values 'yes' and 'no' with True and False. (refer previous question 8’s sample data)\n",
    "import pandas as pd\n",
    "import numpy as np\n",
    "exam_data  = {'name': ['Anastasia', 'Dima', 'Katherine', 'James', 'Emily', 'Michael', 'Matthew', 'Laura', 'Kevin', 'Jonas'],\n",
    "        'score': [12.5, 9, 16.5, np.nan, 9, 20, 14.5, np.nan, 8, 19],\n",
    "        'attempts': [1, 3, 2, 3, 2, 3, 1, 1, 2, 1],\n",
    "        'qualify': ['yes', 'no', 'yes', 'no', 'no', 'yes', 'yes', 'no', 'no', 'yes']}\n",
    "labels = ['a', 'b', 'c', 'd', 'e', 'f', 'g', 'h', 'i', 'j']\n",
    "df = pd.DataFrame(exam_data , index=labels)\n",
    "print(\"Replace the 'qualify' column contains the values 'yes' and 'no'  with True and  False:\")\n",
    "df['qualify'] = df['qualify'].map({'yes': True, 'no': False})\n",
    "print(df)"
   ]
  },
  {
   "cell_type": "code",
   "execution_count": 34,
   "metadata": {},
   "outputs": [
    {
     "name": "stdout",
     "output_type": "stream",
     "text": [
      "Change the name 'James' to ‘Suresh’:\n",
      "        name  score  attempts qualify\n",
      "a  Anastasia   12.5         1     yes\n",
      "b       Dima    9.0         3      no\n",
      "c  Katherine   16.5         2     yes\n",
      "d     Suresh    NaN         3      no\n",
      "e      Emily    9.0         2      no\n",
      "f    Michael   20.0         3     yes\n",
      "g    Matthew   14.5         1     yes\n",
      "h      Laura    NaN         1      no\n",
      "i      Kevin    8.0         2      no\n",
      "j      Jonas   19.0         1     yes\n"
     ]
    }
   ],
   "source": [
    "#Write a Pandas program to change the name 'James' to 'Suresh' in name column of the DataFrame. (refer previous question 8’s sample data)\n",
    "import pandas as pd\n",
    "import numpy as np\n",
    "exam_data  = {'name': ['Anastasia', 'Dima', 'Katherine', 'James', 'Emily', 'Michael', 'Matthew', 'Laura', 'Kevin', 'Jonas'],\n",
    "        'score': [12.5, 9, 16.5, np.nan, 9, 20, 14.5, np.nan, 8, 19],\n",
    "        'attempts': [1, 3, 2, 3, 2, 3, 1, 1, 2, 1],\n",
    "        'qualify': ['yes', 'no', 'yes', 'no', 'no', 'yes', 'yes', 'no', 'no', 'yes']}\n",
    "labels = ['a', 'b', 'c', 'd', 'e', 'f', 'g', 'h', 'i', 'j']\n",
    "df = pd.DataFrame(exam_data , index=labels)\n",
    "print(\"Change the name 'James' to ‘Suresh’:\")\n",
    "df['name'] = df['name'].replace('James', 'Suresh')\n",
    "print(df)"
   ]
  },
  {
   "cell_type": "code",
   "execution_count": 35,
   "metadata": {},
   "outputs": [
    {
     "name": "stdout",
     "output_type": "stream",
     "text": [
      "tim 12.5\n",
      "joe 9.0\n",
      "rachel 16.5\n"
     ]
    }
   ],
   "source": [
    "#Write a Pandas program to iterate over rows in a DataFrame.\n",
    "import pandas as pd\n",
    "import numpy as np\n",
    "exam_data = [{'name':'tim', 'score':12.5}, {'name':'joe','score':9}, {'name':'rachel','score':16.5}]\n",
    "df = pd.DataFrame(exam_data)\n",
    "for index, row in df.iterrows():\n",
    "    print(row['name'], row['score'])"
   ]
  },
  {
   "cell_type": "code",
   "execution_count": 36,
   "metadata": {},
   "outputs": [
    {
     "name": "stdout",
     "output_type": "stream",
     "text": [
      "After add one row:\n",
      "      name            c_clubs      p_clubs\n",
      "0  Ronaldo  Manchester United     Juventus\n",
      "1    Messi                PSG    Barcelona\n",
      "2  Benzima        Real Madrid          N/A\n",
      "3    Ramos                PSG  Real Madrid\n"
     ]
    }
   ],
   "source": [
    "import pandas as pd\n",
    "import numpy as np\n",
    "d = {'name': ['Ronaldo','Messi','Benzima'], 'c_clubs': ['Manchester United','PSG','Real Madrid'], 'p_clubs': ['Juventus','Barcelona','N/A']}\n",
    "df = pd.DataFrame(data=d)\n",
    "print('After add one row:')\n",
    "df2 = {'name':'Ramos', 'c_clubs':'PSG', 'p_clubs':'Real Madrid'}\n",
    "df = df.append(df2, ignore_index=True)\n",
    "print(df)"
   ]
  },
  {
   "cell_type": "code",
   "execution_count": 37,
   "metadata": {},
   "outputs": [
    {
     "name": "stdout",
     "output_type": "stream",
     "text": [
      "After altering name and p_clubs\n",
      "     p_clubs            c_clubs     name\n",
      "0   Juventus  Manchester United  Ronaldo\n",
      "1  Barcelona                PSG    Messi\n",
      "2        N/A        Real Madrid  Benzima\n"
     ]
    }
   ],
   "source": [
    "import pandas as pd\n",
    "import numpy as np\n",
    "d = {'name': ['Ronaldo','Messi','Benzima'], 'c_clubs': ['Manchester United','PSG','Real Madrid'], 'p_clubs': ['Juventus','Barcelona','N/A']}\n",
    "df = pd.DataFrame(data=d)\n",
    "print('After altering name and p_clubs')\n",
    "df = df[['p_clubs', 'c_clubs', 'name']]\n",
    "print(df)"
   ]
  },
  {
   "cell_type": "code",
   "execution_count": 38,
   "metadata": {},
   "outputs": [
    {
     "name": "stdout",
     "output_type": "stream",
     "text": [
      "Rows for name value == Messi\n",
      "    name c_clubs    p_clubs\n",
      "1  Messi     PSG  Barcelona\n"
     ]
    }
   ],
   "source": [
    "#Write a Pandas program to select rows from a given DataFrame based on values in some columns.\n",
    "import pandas as pd\n",
    "import numpy as np\n",
    "d = {'name': ['Ronaldo','Messi','Benzima'], 'c_clubs': ['Manchester United','PSG','Real Madrid'], 'p_clubs': ['Juventus','Barcelona','N/A']}\n",
    "df = pd.DataFrame(data=d)\n",
    "print('Rows for name value == Messi')\n",
    "print(df.loc[df['name'] == 'Messi'])"
   ]
  },
  {
   "cell_type": "code",
   "execution_count": 39,
   "metadata": {},
   "outputs": [
    {
     "name": "stdout",
     "output_type": "stream",
     "text": [
      "   Column1            Column2    Column3\n",
      "0  Ronaldo  Manchester United   Juventus\n",
      "1    Messi                PSG  Barcelona\n",
      "2  Benzima        Real Madrid        N/A\n"
     ]
    }
   ],
   "source": [
    "#Write a Pandas program to rename columns of a given DataFrame\n",
    "import pandas as pd\n",
    "import numpy as np\n",
    "d = {'name': ['Ronaldo','Messi','Benzima'], 'c_clubs': ['Manchester United','PSG','Real Madrid'], 'p_clubs': ['Juventus','Barcelona','N/A']}\n",
    "df = pd.DataFrame(data=d)\n",
    "df.columns = ['Column1', 'Column2', 'Column3']\n",
    "df = df.rename(columns={'name': 'Column1', 'c_clubs': 'Column2', 'p_clubs': 'Column3'})\n",
    "print(df)"
   ]
  },
  {
   "cell_type": "code",
   "execution_count": 40,
   "metadata": {},
   "outputs": [
    {
     "name": "stdout",
     "output_type": "stream",
     "text": [
      "['name', 'c_clubs', 'p_clubs']\n"
     ]
    }
   ],
   "source": [
    "#Write a Pandas program to get list from DataFrame column headers.\n",
    "import pandas as pd\n",
    "import numpy as np\n",
    "d = {'name': ['Ronaldo','Messi','Benzima'], 'c_clubs': ['Manchester United','PSG','Real Madrid'], 'p_clubs': ['Juventus','Barcelona','N/A']}\n",
    "df = pd.DataFrame(data=d)\n",
    "print(list(df.columns.values))"
   ]
  }
 ],
 "metadata": {
  "interpreter": {
   "hash": "458a8cc7b148a026ef3f725b0d7d7a413cd7f7625d92b5013d2d239859459c87"
  },
  "kernelspec": {
   "display_name": "Python 3.9.7 64-bit",
   "name": "python3"
  },
  "language_info": {
   "codemirror_mode": {
    "name": "ipython",
    "version": 3
   },
   "file_extension": ".py",
   "mimetype": "text/x-python",
   "name": "python",
   "nbconvert_exporter": "python",
   "pygments_lexer": "ipython3",
   "version": "3.9.7"
  },
  "orig_nbformat": 4
 },
 "nbformat": 4,
 "nbformat_minor": 2
}
