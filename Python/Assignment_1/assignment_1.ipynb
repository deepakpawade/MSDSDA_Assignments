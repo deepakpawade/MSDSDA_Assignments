{
 "cells": [
  {
   "cell_type": "code",
   "execution_count": 2,
   "metadata": {},
   "outputs": [
    {
     "name": "stdout",
     "output_type": "stream",
     "text": [
      "Hello world\n"
     ]
    }
   ],
   "source": [
    "# hello world\n",
    "print(\"Hello world\")"
   ]
  },
  {
   "cell_type": "code",
   "execution_count": 3,
   "metadata": {},
   "outputs": [
    {
     "name": "stdout",
     "output_type": "stream",
     "text": [
      "The area of rectangle is 30.\n"
     ]
    }
   ],
   "source": [
    "# ⦁\tTo calculate area of a circle, square and triangle\n",
    "# calculate area of circle\n",
    "r = int(input(\"Enter circle's radius length: \"))\n",
    "pi = 3.14\n",
    "circ_area = pi * r * r\n",
    "print(f\"The area of triangle is {circ_area}.\")\n",
    "\n",
    "# calculate area of rectangle\n",
    "l = int(input(\"Enter rectangle's length: \"))\n",
    "b = int(input(\"Enter rectangle's breadth: \"))\n",
    "rect_area = l * b\n",
    "print(f\"The area of rectangle is {rect_area}.\")\n",
    "\n",
    "# calculate area of square\n",
    "s = int(input(\"Enter square's side length: \"))    \n",
    "sqt_area = s * s\n",
    "print(f\"The area of square is {sqt_area}.\")\n",
    "\n",
    "# calculate area of triangle\n",
    "h = int(input(\"Enter triangle's height length: \"))\n",
    "b = int(input(\"Enter triangle's breadth length: \"))  \n",
    "tri_area = 0.5 * b * h\n",
    "print(f\"The area of triangle is {tri_area}.\")"
   ]
  },
  {
   "cell_type": "code",
   "execution_count": null,
   "metadata": {},
   "outputs": [],
   "source": [
    "# ⦁\tTo find out whether a number is Positive, Zero or Negative\n",
    "num = float(input(\"Enter a number: \"))\n",
    "if num > 0:\n",
    "   print(\"Positive number\")\n",
    "elif num == 0:\n",
    "   print(\"Zero\")\n",
    "else:\n",
    "   print(\"Negative number\")"
   ]
  },
  {
   "cell_type": "code",
   "execution_count": 10,
   "metadata": {},
   "outputs": [
    {
     "name": "stdout",
     "output_type": "stream",
     "text": [
      "2021-10-09 17:46:03.400872\n"
     ]
    }
   ],
   "source": [
    "# ⦁\tTo get today’s date and current time\n",
    "import datetime\n",
    " \n",
    "print(datetime.datetime.now())\n"
   ]
  },
  {
   "cell_type": "code",
   "execution_count": 12,
   "metadata": {},
   "outputs": [
    {
     "name": "stdout",
     "output_type": "stream",
     "text": [
      "3.9.7\n"
     ]
    }
   ],
   "source": [
    "# ⦁\tTo get the version of python on which you are working\n",
    "import platform\n",
    "print(platform.python_version())"
   ]
  },
  {
   "cell_type": "code",
   "execution_count": 13,
   "metadata": {},
   "outputs": [
    {
     "name": "stdout",
     "output_type": "stream",
     "text": [
      "25.00 kilometers is equal to 15.53 miles\n"
     ]
    }
   ],
   "source": [
    "# ⦁\tTo convert kilometers to miles\n",
    "kilometers = float(input(\"Enter value (km): \"))\n",
    "\n",
    "miles = kilometers * 0.621371\n",
    "print('%0.2f kilometers is equal to %0.2f miles' %(kilometers,miles))"
   ]
  },
  {
   "cell_type": "code",
   "execution_count": 14,
   "metadata": {},
   "outputs": [
    {
     "name": "stdout",
     "output_type": "stream",
     "text": [
      "32.0 degree Celsius is equal to 89.6 degree Fahrenheit\n"
     ]
    }
   ],
   "source": [
    "# ⦁\tTo convert Celsius to Fahrenheit\n",
    "tempC = float(input(\"Enter value (celcius): \"))\n",
    "fahrenheit = (tempC * 1.8) + 32\n",
    "print('%0.1f degree Celsius is equal to %0.1f degree Fahrenheit' %(tempC,fahrenheit))"
   ]
  },
  {
   "cell_type": "code",
   "execution_count": 2,
   "metadata": {},
   "outputs": [
    {
     "name": "stdout",
     "output_type": "stream",
     "text": [
      "Not a palindrome\n"
     ]
    }
   ],
   "source": [
    "# ⦁\tTo find whether a string is palindrome. Ask user to give the input a string\n",
    "def reverse(s):\n",
    "    return s[::-1]\n",
    "\n",
    "UserString = input(\"Enter the string to check for palindrome\")\n",
    "\n",
    "if(reverse(UserString) == UserString):\n",
    "    print(\"Its palindrome\")\n",
    "else:\n",
    "    print(\"Not a palindrome\")\n"
   ]
  },
  {
   "cell_type": "code",
   "execution_count": 4,
   "metadata": {},
   "outputs": [
    {
     "name": "stdout",
     "output_type": "stream",
     "text": [
      "\n",
      "Simple Interest for Principal Amount 5.00 = 1.25\n"
     ]
    }
   ],
   "source": [
    "# Write a program to calculate simple interest.\n",
    "p = float(input(\"  Principal Amount : \"))\n",
    "r = float(input(\"  Rate Of Interest : \"))\n",
    "t = float(input(\" Time : \"))\n",
    "\n",
    "simple_interest = (p * r * t) / 100\n",
    "\n",
    "print(\"\\nSimple Interest for Principal Amount %0.2f = %0.2f\" %(p, simple_interest))"
   ]
  },
  {
   "cell_type": "code",
   "execution_count": 6,
   "metadata": {},
   "outputs": [
    {
     "name": "stdout",
     "output_type": "stream",
     "text": [
      "615\n",
      "615\n"
     ]
    }
   ],
   "source": [
    "# ⦁\tWrite a Python program that accepts an integer (n) and computes the value of n+nn+nnn.\n",
    "i=int(input(\"Enter a number:\"))\n",
    "num= (i+ ((i*10)+i) + ((i*100)+(i*10)+i))\n",
    "print(num)\n",
    "\n",
    "#or\n",
    "a = int(input(\"Input an integer : \"))\n",
    "n1 = int( \"%s\" % a )\n",
    "n2 = int( \"%s%s\" % (a,a) )\n",
    "n3 = int( \"%s%s%s\" % (a,a,a) )\n",
    "print (n1+n2+n3)"
   ]
  },
  {
   "cell_type": "code",
   "execution_count": 16,
   "metadata": {},
   "outputs": [
    {
     "name": "stdout",
     "output_type": "stream",
     "text": [
      "0\n",
      "9\n"
     ]
    }
   ],
   "source": [
    "# ⦁\tWrite a Python program to sum of three given integers. However, if two values are equal sum will be zero.\n",
    "def sum(x, y, z):\n",
    "    if x == y or y == z or x==z:\n",
    "        sum = 0\n",
    "    else:\n",
    "        sum = x + y + z\n",
    "    return sum\n",
    "\n",
    "\n",
    "print(sum(1, 2, 2))\n",
    "print(sum(4, 2, 3))"
   ]
  },
  {
   "cell_type": "code",
   "execution_count": 17,
   "metadata": {},
   "outputs": [
    {
     "name": "stdout",
     "output_type": "stream",
     "text": [
      " 60 inches.\n",
      " 1.67 yards.\n",
      " 0.00 miles.\n"
     ]
    }
   ],
   "source": [
    "# ⦁\tWrite a Python program to convert the distance (in feet) to inches, yards, and miles. Write a Python program to convert all units of time into seconds\n",
    "ft = int(input(\"Input distance in feet: \"))\n",
    "inches = ft * 12\n",
    "yards = ft / 3.0\n",
    "miles = ft / 5280.0\n",
    "\n",
    "print(\" %i inches.\" % inches)\n",
    "print(\" %.2f yards.\" % yards)\n",
    "print(\" %.2f miles.\" % miles)"
   ]
  },
  {
   "cell_type": "code",
   "execution_count": null,
   "metadata": {},
   "outputs": [],
   "source": []
  }
 ],
 "metadata": {
  "interpreter": {
   "hash": "458a8cc7b148a026ef3f725b0d7d7a413cd7f7625d92b5013d2d239859459c87"
  },
  "kernelspec": {
   "display_name": "Python 3.9.7 64-bit",
   "name": "python3"
  },
  "language_info": {
   "codemirror_mode": {
    "name": "ipython",
    "version": 3
   },
   "file_extension": ".py",
   "mimetype": "text/x-python",
   "name": "python",
   "nbconvert_exporter": "python",
   "pygments_lexer": "ipython3",
   "version": "3.9.7"
  },
  "orig_nbformat": 4
 },
 "nbformat": 4,
 "nbformat_minor": 2
}
